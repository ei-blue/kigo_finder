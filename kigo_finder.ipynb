{
 "cells": [
  {
   "cell_type": "markdown",
   "metadata": {},
   "source": [
    "#### Web scraping for Kigo Finder\n",
    "To create a dataset of kigo (seasonal word), used requests and BeautifulSoup to scrape kigo words from haiku association website.\n",
    "Then count syllables of words and add it to the data and write JSON file for further use."
   ]
  },
  {
   "cell_type": "code",
   "execution_count": 1,
   "metadata": {},
   "outputs": [],
   "source": [
    "# import libraries\n",
    "import requests\n",
    "from bs4 import BeautifulSoup"
   ]
  },
  {
   "cell_type": "code",
   "execution_count": 2,
   "metadata": {},
   "outputs": [],
   "source": [
    "# Access the website of haiku association. \n",
    "# Words for spring http://www.haiku-data.jp/kigo_list.php?season_cd=1#result\n",
    "res = requests.get('http://www.haiku-data.jp/kigo_list.php?season_cd=1#result')\n",
    "sp = BeautifulSoup(res.text, \"html.parser\")\n",
    "elems = sp.find_all(\"tr\")"
   ]
  },
  {
   "cell_type": "code",
   "execution_count": 4,
   "metadata": {},
   "outputs": [
    {
     "data": {
      "text/plain": [
       "[['藍蒔く', 'あいまく', 4],\n",
       " ['青木の花', 'あおきのはな', 6],\n",
       " ['石蓴', 'あおさ', 3],\n",
       " ['青饅', 'あおぬた', 4],\n",
       " ['青麦', 'あおむぎ', 4],\n",
       " ['通草の花', 'あけびのはな', 6],\n",
       " ['胡葱', 'あさつき', 4],\n",
       " ['朝寝', 'あさね', 3],\n",
       " ['麻蒔く', 'あさまく', 4],\n",
       " ['浅蜊', 'あさり', 3]]"
      ]
     },
     "execution_count": 4,
     "metadata": {},
     "output_type": "execute_result"
    }
   ],
   "source": [
    "list1=[]\n",
    "\n",
    "for j in range(2,len(elems)):\n",
    "    el2=elems[j]\n",
    "    tmp=[]\n",
    "    words=el2.find_all(\"td\", class_=\"font1\",background=\"img/bg-w.gif\")\n",
    "    # Add words and phonetic characters \n",
    "    for i in range(2):\n",
    "        tmp.append(words[i].text.replace(u'\\xa0', u''))\n",
    "\n",
    "    # Add number of syllables\n",
    "    # Exclude some characters that are not counted as one syllable\n",
    "    if \"ゃ\" not in tmp[1] and \"ゅ\" not in tmp[1] and \"ょ\" not in tmp[1]:\n",
    "        onsu=len(tmp[1])\n",
    "    else:\n",
    "        kazu=tmp[1].count(\"ゃ\")+tmp[1].count(\"ゅ\")+tmp[1].count(\"ょ\")\n",
    "        onsu=len(tmp[1])-kazu\n",
    "    tmp.append(onsu)\n",
    "    list1.append(tmp)\n",
    "list1[:10]"
   ]
  },
  {
   "cell_type": "code",
   "execution_count": 3,
   "metadata": {},
   "outputs": [],
   "source": [
    "key1=['word', 'yomi', 'syllables']\n",
    "spring=[dict(zip(key1,item)) for item in list1]"
   ]
  },
  {
   "cell_type": "code",
   "execution_count": 4,
   "metadata": {},
   "outputs": [],
   "source": [
    "import json\n",
    "\n",
    "# Writing JSON\n",
    "with open('spring.json', 'w', encoding=\"utf-8\") as f:\n",
    "    json.dump(spring, f, indent=2, ensure_ascii=False)"
   ]
  },
  {
   "cell_type": "markdown",
   "metadata": {},
   "source": [
    "Make sure the words are stored properly."
   ]
  },
  {
   "cell_type": "code",
   "execution_count": 5,
   "metadata": {},
   "outputs": [],
   "source": [
    "# Reading JSON file\n",
    "with open('spring.json', 'r', encoding=\"utf-8\") as f:\n",
    "    json_output = json.load(f)"
   ]
  },
  {
   "cell_type": "code",
   "execution_count": 5,
   "metadata": {},
   "outputs": [],
   "source": [
    "#json_output"
   ]
  },
  {
   "cell_type": "markdown",
   "metadata": {},
   "source": [
    "Do the same thing to other seasons and save them as JSON file."
   ]
  }
 ],
 "metadata": {
  "kernelspec": {
   "display_name": "Python 3",
   "language": "python",
   "name": "python3"
  },
  "language_info": {
   "codemirror_mode": {
    "name": "ipython",
    "version": 3
   },
   "file_extension": ".py",
   "mimetype": "text/x-python",
   "name": "python",
   "nbconvert_exporter": "python",
   "pygments_lexer": "ipython3",
   "version": "3.8.3"
  }
 },
 "nbformat": 4,
 "nbformat_minor": 4
}
